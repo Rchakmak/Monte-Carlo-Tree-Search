{
 "cells": [
  {
   "cell_type": "code",
   "execution_count": 99,
   "metadata": {},
   "outputs": [],
   "source": [
    "import numpy as np\n",
    "import random\n",
    "import copy"
   ]
  },
  {
   "cell_type": "code",
   "execution_count": 575,
   "metadata": {},
   "outputs": [],
   "source": [
    "class TicTacToe:\n",
    "    def __init__(self):\n",
    "        self.board = np.zeros(9)\n",
    "    \n",
    "    def Move(self, player_id, spot):\n",
    "        if self.LegalMove(spot):\n",
    "            self.board[spot] = player_id\n",
    "            if self.CheckWin():\n",
    "                return 1\n",
    "            elif self.GetLegalMoves() == []:\n",
    "                return 0\n",
    "            else:\n",
    "                return -1\n",
    "    \n",
    "    def LegalMove(self, spot):\n",
    "        if self.board[spot] == 1 or self.board[spot] == -1:\n",
    "            return False\n",
    "        else:\n",
    "            return True\n",
    "        \n",
    "    def GetLegalMoves(self):\n",
    "        legal_moves = []\n",
    "        \n",
    "        for i in range(9):\n",
    "            if self.LegalMove(i):\n",
    "                legal_moves.append(i)\n",
    "                \n",
    "        return legal_moves\n",
    "        \n",
    "        \n",
    "        \n",
    "    def CheckWin(self):\n",
    "        board = self.board\n",
    "        if board[0] == board[1] and board[0] == board[2] and board[0] != 0:\n",
    "            return True\n",
    "        elif board[3] == board[4] and board[3] == board[5] and board[3] != 0:\n",
    "            return True\n",
    "        elif board[6] == board[7] and board[6] == board[8] and board[6] != 0:\n",
    "            return True\n",
    "        elif board[0] == board[3] and board[0] == board[6] and board[0] != 0:\n",
    "            return True\n",
    "        elif board[1] == board[4] and board[1] == board[7] and board[1] != 0:\n",
    "            return True\n",
    "        elif board[2] == board[5] and board[2] == board[8] and board[2] != 0:\n",
    "            return True\n",
    "        elif board[0] == board[4] and board[0] == board[8] and board[0] != 0:\n",
    "            return True\n",
    "        elif board[2] == board[4] and board[2] == board[6] and board[2] != 0:\n",
    "            return True\n",
    "        else:\n",
    "            return False "
   ]
  },
  {
   "cell_type": "code",
   "execution_count": 576,
   "metadata": {},
   "outputs": [],
   "source": [
    "class Node:\n",
    "    def __init__(self, name, game, player_id, parent = None):\n",
    "        self.parent = parent\n",
    "        self.children = []\n",
    "        self.player_id = player_id\n",
    "        self.visits = 0\n",
    "        self.value = 0\n",
    "        self.name = name\n",
    "        self.game = copy.deepcopy(game)\n",
    "        self.legalMoves = self.game.GetLegalMoves()\n",
    "        \n",
    "    def __repr__(self):\n",
    "        return \"(\" + str(self.visits) + \", \" + str(self.value) + \")\"\n",
    "    \n",
    "    def FindChild(self, name):\n",
    "        for i in self.children:\n",
    "            if i.name == name:\n",
    "                return i\n",
    "    \n",
    "    def MakeChild(self, name, game, player_id):\n",
    "        self.children.append(Node(parent = self, name = name, game = game, player_id = player_id))\n",
    "        \n",
    "    def UCTScore(self, C = 1.414):\n",
    "        return self.value/self.visits + C * np.sqrt(np.log(self.parent.visits)/self.visits)\n",
    "    \n",
    "    def BestChild(self, C = 1.414):\n",
    "        childrenScores = [(x.UCTScore(C),x) for x in self.children]      \n",
    "        childrenScores = sorted(childrenScores,  key=lambda x: x[0])\n",
    "        return childrenScores[-1][1]"
   ]
  },
  {
   "cell_type": "code",
   "execution_count": 606,
   "metadata": {},
   "outputs": [],
   "source": [
    "def MCTS(game, iterations, player_id):\n",
    "    \n",
    "    head = Node(name = None, game = game, player_id = player_id)\n",
    "    node = head\n",
    "    \n",
    "    # Select and Create\n",
    "    for i in range(iterations):\n",
    "        \n",
    "        if node.legalMoves == [] and node.children == []:\n",
    "            break   \n",
    "            \n",
    "        while(node.legalMoves == [] and node.children != []):\n",
    "            node = node.BestChild()\n",
    "        \n",
    "        gameCopy = copy.deepcopy(node.game) \n",
    "        move = random.choice(node.legalMoves)\n",
    "        gameCopy.Move(node.player_id, move)\n",
    "        node.MakeChild(name = move, game = gameCopy, player_id = node.player_id * -1)\n",
    "        node.legalMoves.remove(move)\n",
    "        node = node.FindChild(move)    \n",
    "        \n",
    "        if node.legalMoves == [] and node.children == []:\n",
    "            while node.parent != None:\n",
    "                node.visits += 1\n",
    "                node = node.parent\n",
    "            node.visits += 1\n",
    "            break   \n",
    "        \n",
    "        \n",
    "        # Simulate\n",
    "        copyCopy = copy.deepcopy(gameCopy)\n",
    "        \n",
    "        score = 0\n",
    "        while(True):\n",
    "            \n",
    "            \n",
    "            a = copyCopy.Move(node.player_id, random.choice(copyCopy.GetLegalMoves()))\n",
    "           \n",
    "            if a:\n",
    "                score = 1\n",
    "                break\n",
    "            elif copyCopy.GetLegalMoves() == []:\n",
    "                break\n",
    "\n",
    "            b = copyCopy.Move(node.player_id * -1, random.choice(copyCopy.GetLegalMoves()))    \n",
    "        \n",
    "            if b:\n",
    "                score = -1\n",
    "                break\n",
    "            elif copyCopy.GetLegalMoves() == []:\n",
    "                break\n",
    "        \n",
    "            \n",
    "        # Backpropigate \n",
    "        \n",
    "        while node.parent != None:\n",
    "            \n",
    "            node.value += score\n",
    "            node.visits += 1\n",
    "            node = node.parent\n",
    "            \n",
    "        node.visits += 1\n",
    "      \n",
    "    \n",
    "    return head.BestChild().name\n",
    "\n",
    "    "
   ]
  },
  {
   "cell_type": "code",
   "execution_count": 615,
   "metadata": {},
   "outputs": [
    {
     "name": "stdout",
     "output_type": "stream",
     "text": [
      "[[0.66, 0.01, 0.33]]\n",
      "[[0.66, 0.01, 0.33], [0.66, 0.0, 0.34]]\n",
      "[[0.66, 0.01, 0.33], [0.66, 0.0, 0.34], [0.69, 0.05, 0.26]]\n"
     ]
    },
    {
     "ename": "KeyboardInterrupt",
     "evalue": "",
     "output_type": "error",
     "traceback": [
      "\u001b[0;31m---------------------------------------------------------------------------\u001b[0m",
      "\u001b[0;31mKeyboardInterrupt\u001b[0m                         Traceback (most recent call last)",
      "\u001b[0;32m<ipython-input-615-34b06f735c9e>\u001b[0m in \u001b[0;36m<module>\u001b[0;34m()\u001b[0m\n\u001b[1;32m     20\u001b[0m                 \u001b[0;32mbreak\u001b[0m\u001b[0;34m\u001b[0m\u001b[0m\n\u001b[1;32m     21\u001b[0m \u001b[0;34m\u001b[0m\u001b[0m\n\u001b[0;32m---> 22\u001b[0;31m             \u001b[0mmove\u001b[0m \u001b[0;34m=\u001b[0m \u001b[0mMCTS\u001b[0m\u001b[0;34m(\u001b[0m\u001b[0mboard\u001b[0m\u001b[0;34m,\u001b[0m \u001b[0mi\u001b[0m\u001b[0;34m,\u001b[0m \u001b[0;34m-\u001b[0m\u001b[0;36m1\u001b[0m\u001b[0;34m)\u001b[0m\u001b[0;34m\u001b[0m\u001b[0m\n\u001b[0m\u001b[1;32m     23\u001b[0m             \u001b[0mb\u001b[0m \u001b[0;34m=\u001b[0m \u001b[0mboard\u001b[0m\u001b[0;34m.\u001b[0m\u001b[0mMove\u001b[0m\u001b[0;34m(\u001b[0m\u001b[0;34m-\u001b[0m\u001b[0;36m1\u001b[0m\u001b[0;34m,\u001b[0m \u001b[0mmove\u001b[0m\u001b[0;34m)\u001b[0m\u001b[0;34m\u001b[0m\u001b[0m\n\u001b[1;32m     24\u001b[0m             \u001b[0;32mif\u001b[0m \u001b[0mb\u001b[0m \u001b[0;34m==\u001b[0m \u001b[0;36m0\u001b[0m \u001b[0;32mor\u001b[0m \u001b[0mb\u001b[0m \u001b[0;34m==\u001b[0m \u001b[0;36m1\u001b[0m\u001b[0;34m:\u001b[0m\u001b[0;34m\u001b[0m\u001b[0m\n",
      "\u001b[0;32m<ipython-input-606-e159eee638a2>\u001b[0m in \u001b[0;36mMCTS\u001b[0;34m(game, iterations, player_id)\u001b[0m\n\u001b[1;32m     11\u001b[0m \u001b[0;34m\u001b[0m\u001b[0m\n\u001b[1;32m     12\u001b[0m         \u001b[0;32mwhile\u001b[0m\u001b[0;34m(\u001b[0m\u001b[0mnode\u001b[0m\u001b[0;34m.\u001b[0m\u001b[0mlegalMoves\u001b[0m \u001b[0;34m==\u001b[0m \u001b[0;34m[\u001b[0m\u001b[0;34m]\u001b[0m \u001b[0;32mand\u001b[0m \u001b[0mnode\u001b[0m\u001b[0;34m.\u001b[0m\u001b[0mchildren\u001b[0m \u001b[0;34m!=\u001b[0m \u001b[0;34m[\u001b[0m\u001b[0;34m]\u001b[0m\u001b[0;34m)\u001b[0m\u001b[0;34m:\u001b[0m\u001b[0;34m\u001b[0m\u001b[0m\n\u001b[0;32m---> 13\u001b[0;31m             \u001b[0mnode\u001b[0m \u001b[0;34m=\u001b[0m \u001b[0mnode\u001b[0m\u001b[0;34m.\u001b[0m\u001b[0mBestChild\u001b[0m\u001b[0;34m(\u001b[0m\u001b[0;34m)\u001b[0m\u001b[0;34m\u001b[0m\u001b[0m\n\u001b[0m\u001b[1;32m     14\u001b[0m \u001b[0;34m\u001b[0m\u001b[0m\n\u001b[1;32m     15\u001b[0m         \u001b[0mgameCopy\u001b[0m \u001b[0;34m=\u001b[0m \u001b[0mcopy\u001b[0m\u001b[0;34m.\u001b[0m\u001b[0mdeepcopy\u001b[0m\u001b[0;34m(\u001b[0m\u001b[0mnode\u001b[0m\u001b[0;34m.\u001b[0m\u001b[0mgame\u001b[0m\u001b[0;34m)\u001b[0m\u001b[0;34m\u001b[0m\u001b[0m\n",
      "\u001b[0;32m<ipython-input-576-b47dfd0bc805>\u001b[0m in \u001b[0;36mBestChild\u001b[0;34m(self, C)\u001b[0m\n\u001b[1;32m     25\u001b[0m \u001b[0;34m\u001b[0m\u001b[0m\n\u001b[1;32m     26\u001b[0m     \u001b[0;32mdef\u001b[0m \u001b[0mBestChild\u001b[0m\u001b[0;34m(\u001b[0m\u001b[0mself\u001b[0m\u001b[0;34m,\u001b[0m \u001b[0mC\u001b[0m \u001b[0;34m=\u001b[0m \u001b[0;36m1.414\u001b[0m\u001b[0;34m)\u001b[0m\u001b[0;34m:\u001b[0m\u001b[0;34m\u001b[0m\u001b[0m\n\u001b[0;32m---> 27\u001b[0;31m         \u001b[0mchildrenScores\u001b[0m \u001b[0;34m=\u001b[0m \u001b[0;34m[\u001b[0m\u001b[0;34m(\u001b[0m\u001b[0mx\u001b[0m\u001b[0;34m.\u001b[0m\u001b[0mUCTScore\u001b[0m\u001b[0;34m(\u001b[0m\u001b[0mC\u001b[0m\u001b[0;34m)\u001b[0m\u001b[0;34m,\u001b[0m\u001b[0mx\u001b[0m\u001b[0;34m)\u001b[0m \u001b[0;32mfor\u001b[0m \u001b[0mx\u001b[0m \u001b[0;32min\u001b[0m \u001b[0mself\u001b[0m\u001b[0;34m.\u001b[0m\u001b[0mchildren\u001b[0m\u001b[0;34m]\u001b[0m\u001b[0;34m\u001b[0m\u001b[0m\n\u001b[0m\u001b[1;32m     28\u001b[0m         \u001b[0mchildrenScores\u001b[0m \u001b[0;34m=\u001b[0m \u001b[0msorted\u001b[0m\u001b[0;34m(\u001b[0m\u001b[0mchildrenScores\u001b[0m\u001b[0;34m,\u001b[0m  \u001b[0mkey\u001b[0m\u001b[0;34m=\u001b[0m\u001b[0;32mlambda\u001b[0m \u001b[0mx\u001b[0m\u001b[0;34m:\u001b[0m \u001b[0mx\u001b[0m\u001b[0;34m[\u001b[0m\u001b[0;36m0\u001b[0m\u001b[0;34m]\u001b[0m\u001b[0;34m)\u001b[0m\u001b[0;34m\u001b[0m\u001b[0m\n\u001b[1;32m     29\u001b[0m         \u001b[0;32mreturn\u001b[0m \u001b[0mchildrenScores\u001b[0m\u001b[0;34m[\u001b[0m\u001b[0;34m-\u001b[0m\u001b[0;36m1\u001b[0m\u001b[0;34m]\u001b[0m\u001b[0;34m[\u001b[0m\u001b[0;36m1\u001b[0m\u001b[0;34m]\u001b[0m\u001b[0;34m\u001b[0m\u001b[0m\n",
      "\u001b[0;32m<ipython-input-576-b47dfd0bc805>\u001b[0m in \u001b[0;36m<listcomp>\u001b[0;34m(.0)\u001b[0m\n\u001b[1;32m     25\u001b[0m \u001b[0;34m\u001b[0m\u001b[0m\n\u001b[1;32m     26\u001b[0m     \u001b[0;32mdef\u001b[0m \u001b[0mBestChild\u001b[0m\u001b[0;34m(\u001b[0m\u001b[0mself\u001b[0m\u001b[0;34m,\u001b[0m \u001b[0mC\u001b[0m \u001b[0;34m=\u001b[0m \u001b[0;36m1.414\u001b[0m\u001b[0;34m)\u001b[0m\u001b[0;34m:\u001b[0m\u001b[0;34m\u001b[0m\u001b[0m\n\u001b[0;32m---> 27\u001b[0;31m         \u001b[0mchildrenScores\u001b[0m \u001b[0;34m=\u001b[0m \u001b[0;34m[\u001b[0m\u001b[0;34m(\u001b[0m\u001b[0mx\u001b[0m\u001b[0;34m.\u001b[0m\u001b[0mUCTScore\u001b[0m\u001b[0;34m(\u001b[0m\u001b[0mC\u001b[0m\u001b[0;34m)\u001b[0m\u001b[0;34m,\u001b[0m\u001b[0mx\u001b[0m\u001b[0;34m)\u001b[0m \u001b[0;32mfor\u001b[0m \u001b[0mx\u001b[0m \u001b[0;32min\u001b[0m \u001b[0mself\u001b[0m\u001b[0;34m.\u001b[0m\u001b[0mchildren\u001b[0m\u001b[0;34m]\u001b[0m\u001b[0;34m\u001b[0m\u001b[0m\n\u001b[0m\u001b[1;32m     28\u001b[0m         \u001b[0mchildrenScores\u001b[0m \u001b[0;34m=\u001b[0m \u001b[0msorted\u001b[0m\u001b[0;34m(\u001b[0m\u001b[0mchildrenScores\u001b[0m\u001b[0;34m,\u001b[0m  \u001b[0mkey\u001b[0m\u001b[0;34m=\u001b[0m\u001b[0;32mlambda\u001b[0m \u001b[0mx\u001b[0m\u001b[0;34m:\u001b[0m \u001b[0mx\u001b[0m\u001b[0;34m[\u001b[0m\u001b[0;36m0\u001b[0m\u001b[0;34m]\u001b[0m\u001b[0;34m)\u001b[0m\u001b[0;34m\u001b[0m\u001b[0m\n\u001b[1;32m     29\u001b[0m         \u001b[0;32mreturn\u001b[0m \u001b[0mchildrenScores\u001b[0m\u001b[0;34m[\u001b[0m\u001b[0;34m-\u001b[0m\u001b[0;36m1\u001b[0m\u001b[0;34m]\u001b[0m\u001b[0;34m[\u001b[0m\u001b[0;36m1\u001b[0m\u001b[0;34m]\u001b[0m\u001b[0;34m\u001b[0m\u001b[0m\n",
      "\u001b[0;32m<ipython-input-576-b47dfd0bc805>\u001b[0m in \u001b[0;36mUCTScore\u001b[0;34m(self, C)\u001b[0m\n\u001b[1;32m     22\u001b[0m \u001b[0;34m\u001b[0m\u001b[0m\n\u001b[1;32m     23\u001b[0m     \u001b[0;32mdef\u001b[0m \u001b[0mUCTScore\u001b[0m\u001b[0;34m(\u001b[0m\u001b[0mself\u001b[0m\u001b[0;34m,\u001b[0m \u001b[0mC\u001b[0m \u001b[0;34m=\u001b[0m \u001b[0;36m1.414\u001b[0m\u001b[0;34m)\u001b[0m\u001b[0;34m:\u001b[0m\u001b[0;34m\u001b[0m\u001b[0m\n\u001b[0;32m---> 24\u001b[0;31m         \u001b[0;32mreturn\u001b[0m \u001b[0mself\u001b[0m\u001b[0;34m.\u001b[0m\u001b[0mvalue\u001b[0m\u001b[0;34m/\u001b[0m\u001b[0mself\u001b[0m\u001b[0;34m.\u001b[0m\u001b[0mvisits\u001b[0m \u001b[0;34m+\u001b[0m \u001b[0mC\u001b[0m \u001b[0;34m*\u001b[0m \u001b[0mnp\u001b[0m\u001b[0;34m.\u001b[0m\u001b[0msqrt\u001b[0m\u001b[0;34m(\u001b[0m\u001b[0mnp\u001b[0m\u001b[0;34m.\u001b[0m\u001b[0mlog\u001b[0m\u001b[0;34m(\u001b[0m\u001b[0mself\u001b[0m\u001b[0;34m.\u001b[0m\u001b[0mparent\u001b[0m\u001b[0;34m.\u001b[0m\u001b[0mvisits\u001b[0m\u001b[0;34m)\u001b[0m\u001b[0;34m/\u001b[0m\u001b[0mself\u001b[0m\u001b[0;34m.\u001b[0m\u001b[0mvisits\u001b[0m\u001b[0;34m)\u001b[0m\u001b[0;34m\u001b[0m\u001b[0m\n\u001b[0m\u001b[1;32m     25\u001b[0m \u001b[0;34m\u001b[0m\u001b[0m\n\u001b[1;32m     26\u001b[0m     \u001b[0;32mdef\u001b[0m \u001b[0mBestChild\u001b[0m\u001b[0;34m(\u001b[0m\u001b[0mself\u001b[0m\u001b[0;34m,\u001b[0m \u001b[0mC\u001b[0m \u001b[0;34m=\u001b[0m \u001b[0;36m1.414\u001b[0m\u001b[0;34m)\u001b[0m\u001b[0;34m:\u001b[0m\u001b[0;34m\u001b[0m\u001b[0m\n",
      "\u001b[0;31mKeyboardInterrupt\u001b[0m: "
     ]
    }
   ],
   "source": [
    "\n",
    "win_percent = []\n",
    "\n",
    "\n",
    "iterations = [(x+1)*100 for x in range(10)]\n",
    "\n",
    "for i in iterations:\n",
    "    win = 0\n",
    "    tie = 0\n",
    "    for num_games in range(100):\n",
    "        board = TicTacToe()\n",
    "        while(True):\n",
    "            move = MCTS(board, i, 1)\n",
    "            a = board.Move(1, move)\n",
    "            if a == 1:\n",
    "                win += 1\n",
    "                break\n",
    "            elif a == 0:\n",
    "                tie += 1\n",
    "                break\n",
    "            \n",
    "            move = random.choice(board.GetLegalMoves())\n",
    "            b = board.Move(-1, move)\n",
    "            if b == 0 or b == 1:\n",
    "                break\n",
    "                \n",
    "    win_percent.append([win/100, tie/100, (100-win-tie)/100])\n",
    "    print(win_percent)\n",
    "    "
   ]
  },
  {
   "cell_type": "code",
   "execution_count": null,
   "metadata": {},
   "outputs": [],
   "source": [
    "import matplotlib.pyplot as plt\n",
    "plt.plot(win_percent)\n",
    "plt.show()"
   ]
  },
  {
   "cell_type": "code",
   "execution_count": 614,
   "metadata": {},
   "outputs": [
    {
     "data": {
      "text/plain": [
       "1"
      ]
     },
     "execution_count": 614,
     "metadata": {},
     "output_type": "execute_result"
    }
   ],
   "source": []
  },
  {
   "cell_type": "code",
   "execution_count": 383,
   "metadata": {},
   "outputs": [
    {
     "data": {
      "text/plain": [
       "[(2, 3), (4, 2)]"
      ]
     },
     "execution_count": 383,
     "metadata": {},
     "output_type": "execute_result"
    }
   ],
   "source": [
    "a= [(4,2), (2,3)]\n",
    "a.sort()\n",
    "a"
   ]
  },
  {
   "cell_type": "code",
   "execution_count": 83,
   "metadata": {},
   "outputs": [
    {
     "data": {
      "text/plain": [
       "[0, 1, 2, 3, 4, 5, 6, 7, 8]"
      ]
     },
     "execution_count": 83,
     "metadata": {},
     "output_type": "execute_result"
    }
   ],
   "source": [
    "a.head.legalMoves"
   ]
  },
  {
   "cell_type": "code",
   "execution_count": null,
   "metadata": {},
   "outputs": [],
   "source": []
  }
 ],
 "metadata": {
  "kernelspec": {
   "display_name": "Python 3",
   "language": "python",
   "name": "python3"
  },
  "language_info": {
   "codemirror_mode": {
    "name": "ipython",
    "version": 3
   },
   "file_extension": ".py",
   "mimetype": "text/x-python",
   "name": "python",
   "nbconvert_exporter": "python",
   "pygments_lexer": "ipython3",
   "version": "3.6.4"
  }
 },
 "nbformat": 4,
 "nbformat_minor": 2
}
